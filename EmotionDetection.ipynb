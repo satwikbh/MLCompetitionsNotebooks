{
  "nbformat": 4,
  "nbformat_minor": 0,
  "metadata": {
    "colab": {
      "name": "EmotionDetection.ipynb",
      "provenance": [],
      "collapsed_sections": []
    },
    "kernelspec": {
      "name": "python3",
      "display_name": "Python 3"
    },
    "accelerator": "GPU"
  },
  "cells": [
    {
      "cell_type": "markdown",
      "metadata": {
        "id": "yBJ2mtZEEdI_",
        "colab_type": "text"
      },
      "source": [
        "# AICrowd - Tom and Jerry Emotion Detection Challenge [Link](https://www.aicrowd.com/challenges/tjedc-tom-and-jerry-emotion-detection-challenge)\n",
        "\n",
        "1. Load and pre-process the data \\\\ \n",
        "    a. Load each image and prepare 5 augmented images (using rotation, shear, zoomed version, horizontal flipping and increasing brightness). \\\\\n",
        "    b. Convert these images to array and the labels to categorical form. \\\\\n",
        "    c. Split the data into train and validation.\n",
        "\n",
        "2. Models: \\\\\n",
        "List of models choosed. \\\\\n",
        "    a. Basic Cifar-10 model architecture. \\\\\n",
        "    b. A deep CNN model used for similar challenge. \\\\\n",
        "    c. Transfer learning models VGG19. \\\\\n",
        "    d. Transfer learning models VGG19 Face. \\\\\n",
        "    e. Transfer learning models Resnet50. \n",
        "\n",
        "3. Classification Phase:  \\\\\n",
        "For each model, the below steps are performed. \\\\\n",
        "    a. Prepare the model. \\\\\n",
        "    b. Train the model on the data and predict the results on validation. \\\\\n",
        "    c. Get metrics such as classification_report and plot confusion matrix.\n",
        "\n",
        "4. Final Output & Submission"
      ]
    },
    {
      "cell_type": "markdown",
      "metadata": {
        "id": "-L9KdUntE6A4",
        "colab_type": "text"
      },
      "source": [
        "## Google Drive mount and Import statements"
      ]
    },
    {
      "cell_type": "code",
      "metadata": {
        "id": "q9uDS3vlyd7c",
        "colab_type": "code",
        "outputId": "ddd88d0b-6602-442b-e2ab-8b8690663f29",
        "colab": {
          "base_uri": "https://localhost:8080/",
          "height": 141
        }
      },
      "source": [
        "from google.colab import drive\n",
        "drive.mount('/gdrive')\n",
        "%cd /gdrive"
      ],
      "execution_count": 1,
      "outputs": [
        {
          "output_type": "stream",
          "text": [
            "Go to this URL in a browser: https://accounts.google.com/o/oauth2/auth?client_id=947318989803-6bn6qk8qdgf4n4g3pfee6491hc0brc4i.apps.googleusercontent.com&redirect_uri=urn%3aietf%3awg%3aoauth%3a2.0%3aoob&response_type=code&scope=email%20https%3a%2f%2fwww.googleapis.com%2fauth%2fdocs.test%20https%3a%2f%2fwww.googleapis.com%2fauth%2fdrive%20https%3a%2f%2fwww.googleapis.com%2fauth%2fdrive.photos.readonly%20https%3a%2f%2fwww.googleapis.com%2fauth%2fpeopleapi.readonly\n",
            "\n",
            "Enter your authorization code:\n",
            "··········\n",
            "Mounted at /gdrive\n",
            "/gdrive\n"
          ],
          "name": "stdout"
        }
      ]
    },
    {
      "cell_type": "code",
      "metadata": {
        "id": "VyaH1I6B0AyB",
        "colab_type": "code",
        "outputId": "d14ebba3-48da-4d49-97db-117b750566c8",
        "colab": {
          "base_uri": "https://localhost:8080/",
          "height": 367
        }
      },
      "source": [
        "%matplotlib inline\n",
        "\n",
        "!pip install git+https://github.com/rcmalli/keras-vggface.git"
      ],
      "execution_count": 2,
      "outputs": [
        {
          "output_type": "stream",
          "text": [
            "Collecting git+https://github.com/rcmalli/keras-vggface.git\n",
            "  Cloning https://github.com/rcmalli/keras-vggface.git to /tmp/pip-req-build-b5378717\n",
            "  Running command git clone -q https://github.com/rcmalli/keras-vggface.git /tmp/pip-req-build-b5378717\n",
            "Requirement already satisfied: numpy>=1.9.1 in /usr/local/lib/python3.6/dist-packages (from keras-vggface==0.6) (1.18.3)\n",
            "Requirement already satisfied: scipy>=0.14 in /usr/local/lib/python3.6/dist-packages (from keras-vggface==0.6) (1.4.1)\n",
            "Requirement already satisfied: h5py in /usr/local/lib/python3.6/dist-packages (from keras-vggface==0.6) (2.10.0)\n",
            "Requirement already satisfied: pillow in /usr/local/lib/python3.6/dist-packages (from keras-vggface==0.6) (7.0.0)\n",
            "Requirement already satisfied: keras in /usr/local/lib/python3.6/dist-packages (from keras-vggface==0.6) (2.3.1)\n",
            "Requirement already satisfied: six>=1.9.0 in /usr/local/lib/python3.6/dist-packages (from keras-vggface==0.6) (1.12.0)\n",
            "Requirement already satisfied: pyyaml in /usr/local/lib/python3.6/dist-packages (from keras-vggface==0.6) (3.13)\n",
            "Requirement already satisfied: keras-preprocessing>=1.0.5 in /usr/local/lib/python3.6/dist-packages (from keras->keras-vggface==0.6) (1.1.0)\n",
            "Requirement already satisfied: keras-applications>=1.0.6 in /usr/local/lib/python3.6/dist-packages (from keras->keras-vggface==0.6) (1.0.8)\n",
            "Building wheels for collected packages: keras-vggface\n",
            "  Building wheel for keras-vggface (setup.py) ... \u001b[?25l\u001b[?25hdone\n",
            "  Created wheel for keras-vggface: filename=keras_vggface-0.6-cp36-none-any.whl size=8311 sha256=bf51432755fd6d63568f5cb7554160e03c922a6a78d0e8b2cc946b306bf7427a\n",
            "  Stored in directory: /tmp/pip-ephem-wheel-cache-nudxgiel/wheels/36/07/46/06c25ce8e9cd396dabe151ea1d8a2bc28dafcb11321c1f3a6d\n",
            "Successfully built keras-vggface\n",
            "Installing collected packages: keras-vggface\n",
            "Successfully installed keras-vggface-0.6\n"
          ],
          "name": "stdout"
        }
      ]
    },
    {
      "cell_type": "code",
      "metadata": {
        "id": "bHggLQSA0A1g",
        "colab_type": "code",
        "colab": {}
      },
      "source": [
        "from __future__ import print_function\n",
        "\n",
        "import numpy as np\n",
        "import pandas as pd\n",
        "import os\n",
        "import itertools\n",
        "import matplotlib.pyplot as plt\n",
        "\n",
        "from collections import Counter\n",
        "\n",
        "from sklearn.model_selection import train_test_split\n",
        "from sklearn.metrics import confusion_matrix, classification_report\n",
        "\n",
        "from keras.preprocessing.image import ImageDataGenerator, array_to_img, img_to_array, load_img\n",
        "from keras.layers import InputLayer, Dense, Dropout, Activation, Flatten, Input\n",
        "from keras.layers import Conv2D, MaxPooling2D, BatchNormalization, GlobalAveragePooling2D, AveragePooling2D\n",
        "from keras.models import Sequential, Model\n",
        "from keras.optimizers import Adam, RMSprop\n",
        "from keras.callbacks import EarlyStopping\n",
        "from keras.utils import to_categorical\n",
        "from keras.regularizers import l2\n",
        "\n",
        "from keras_vggface.vggface import VGGFace\n",
        "from keras.applications.resnet50 import ResNet50\n",
        "from keras.applications.vgg19 import VGG19\n",
        "\n",
        "from tqdm import tqdm"
      ],
      "execution_count": 0,
      "outputs": []
    },
    {
      "cell_type": "markdown",
      "metadata": {
        "id": "gm60lVOEFCWT",
        "colab_type": "text"
      },
      "source": [
        "## Data Processing"
      ]
    },
    {
      "cell_type": "code",
      "metadata": {
        "id": "SQpjaN0rzQr1",
        "colab_type": "code",
        "colab": {}
      },
      "source": [
        "dir_path = \"/gdrive/My Drive/Dataset/AICrowd/EmotionDetection/\"\n",
        "\n",
        "train_img_dir = dir_path + \"ntrain/\"\n",
        "test_img_dir = dir_path + \"ntest/\"\n",
        "\n",
        "train_dir = dir_path + \"train\"\n",
        "test_dir = dir_path + \"test\" \n",
        "validation_dir = dir_path + \"validation\"\n",
        "\n",
        "train_df = pd.read_csv(dir_path + \"db5fcca9-f52b-42a9-87be-26f77b6f9d97_train.csv\")\n",
        "test_df = pd.read_csv(dir_path + \"1062e440-bad5-415c-a209-d3a2a8336c2e_test.csv\")"
      ],
      "execution_count": 0,
      "outputs": []
    },
    {
      "cell_type": "code",
      "metadata": {
        "id": "Q3BYWN_GR9e8",
        "colab_type": "code",
        "colab": {}
      },
      "source": [
        "width = 38\n",
        "height = 38\n",
        "channels = 3"
      ],
      "execution_count": 0,
      "outputs": []
    },
    {
      "cell_type": "code",
      "metadata": {
        "id": "MXNeKcAIFSiW",
        "colab_type": "code",
        "colab": {}
      },
      "source": [
        "def load_data(train_df):\n",
        "    data, labels = list(), list()\n",
        "\n",
        "    datagen = ImageDataGenerator(\n",
        "        rotation_range = 40,\n",
        "        shear_range = 0.2,\n",
        "        zoom_range = 0.2,\n",
        "        horizontal_flip = True,\n",
        "        brightness_range = (0.5, 1.5)\n",
        "        )\n",
        "    \n",
        "    for i in tqdm(range(train_df.shape[0])):\n",
        "        img = load_img(\n",
        "            '/gdrive/My Drive/Dataset/AICrowd/EmotionDetection/ntrain/'+str(train_df['image_file'][i])+'.jpg',\n",
        "            target_size=(width, height, channels),\n",
        "            grayscale=False\n",
        "            )\n",
        "        img = img_to_array(img)\n",
        "        img = img/255.0\n",
        "        x = img\n",
        "        data.append(img)\n",
        "        labels.append(train_df['emotion'][i])\n",
        "        x = x.reshape((1, ) + x.shape)\n",
        "        \n",
        "        # Generating and saving 5 augmented samples using the above defined parameters.\n",
        "        for index, batch in enumerate(datagen.flow(x, batch_size = 1)):\n",
        "            if index > 5:\n",
        "                break\n",
        "            bat = batch.reshape(width, height, channels)\n",
        "            bat /= 255.0\n",
        "            data.append(bat)\n",
        "            labels.append(train_df['emotion'][i])\n",
        "\n",
        "    return data, labels"
      ],
      "execution_count": 0,
      "outputs": []
    },
    {
      "cell_type": "code",
      "metadata": {
        "id": "sUOgPfNbGPXh",
        "colab_type": "code",
        "outputId": "78499633-4c95-4e42-bfe8-1379c9894185",
        "colab": {
          "base_uri": "https://localhost:8080/",
          "height": 34
        }
      },
      "source": [
        "data, labels = load_data(train_df)\n",
        "data, labels = np.asarray(data), np.asarray(labels)\n",
        "cat_labels = to_categorical(labels)"
      ],
      "execution_count": 7,
      "outputs": [
        {
          "output_type": "stream",
          "text": [
            "100%|██████████| 1941/1941 [22:26<00:00,  1.44it/s]\n"
          ],
          "name": "stderr"
        }
      ]
    },
    {
      "cell_type": "code",
      "metadata": {
        "id": "YpDO1LVPGh07",
        "colab_type": "code",
        "outputId": "856077a3-6ba0-4203-b108-0377c94fcd07",
        "colab": {
          "base_uri": "https://localhost:8080/",
          "height": 52
        }
      },
      "source": [
        "x_train, x_validation, y_train, y_validation = train_test_split(data, cat_labels, test_size=0.25, stratify=labels)\n",
        "\n",
        "print(F\"Training data stats: {x_train.shape}, {y_train.shape}\")\n",
        "print(F\"Validation data stats: {x_validation.shape}, {y_validation.shape}\")"
      ],
      "execution_count": 8,
      "outputs": [
        {
          "output_type": "stream",
          "text": [
            "Training data stats: (10190, 38, 38, 3), (10190, 5)\n",
            "Validation data stats: (3397, 38, 38, 3), (3397, 5)\n"
          ],
          "name": "stdout"
        }
      ]
    },
    {
      "cell_type": "markdown",
      "metadata": {
        "id": "IRm7lDbbJCxh",
        "colab_type": "text"
      },
      "source": [
        "## Classification"
      ]
    },
    {
      "cell_type": "code",
      "metadata": {
        "id": "3q8_HL8ZSN1H",
        "colab_type": "code",
        "colab": {}
      },
      "source": [
        "epochs = 50\n",
        "batch_size = 32\n",
        "num_labels = 5\n",
        "\n",
        "num_features = 32"
      ],
      "execution_count": 0,
      "outputs": []
    },
    {
      "cell_type": "markdown",
      "metadata": {
        "id": "_3Lyrro6IcYY",
        "colab_type": "text"
      },
      "source": [
        "### 1. CIFAR-10 CNN"
      ]
    },
    {
      "cell_type": "code",
      "metadata": {
        "id": "dOykdGemIbpr",
        "colab_type": "code",
        "colab": {}
      },
      "source": [
        "def cifar_10_arch():\n",
        "    model = Sequential()\n",
        "    model.add(Conv2D(32, (3, 3), padding='same', input_shape=(width, height, channels), activation=\"relu\"))\n",
        "    model.add(Conv2D(32, (3, 3), activation=\"relu\"))\n",
        "    model.add(MaxPooling2D(pool_size=(2, 2)))\n",
        "    model.add(Dropout(0.25))\n",
        "\n",
        "    model.add(Conv2D(64, (3, 3), padding='same', activation=\"relu\"))\n",
        "    model.add(Conv2D(64, (3, 3), activation=\"relu\"))\n",
        "    model.add(MaxPooling2D(pool_size=(2, 2)))\n",
        "    model.add(Dropout(0.25))\n",
        "\n",
        "    model.add(Flatten())\n",
        "    model.add(Dense(512, activation=\"relu\"))\n",
        "    model.add(Dropout(0.5))\n",
        "    model.add(Dense(num_labels, activation=\"softmax\"))\n",
        "\n",
        "    print(model.summary())\n",
        "\n",
        "    opt = RMSprop(learning_rate=0.0001, decay=1e-6)\n",
        "    \n",
        "    # Let's train the model using RMSprop\n",
        "    model.compile(loss='categorical_crossentropy',\n",
        "                  optimizer=opt,\n",
        "                  metrics=['accuracy'])\n",
        "\n",
        "    return model"
      ],
      "execution_count": 0,
      "outputs": []
    },
    {
      "cell_type": "code",
      "metadata": {
        "id": "C7USUWKgMulN",
        "colab_type": "code",
        "outputId": "336b1799-63f8-463b-b5f4-df2d08d9daf5",
        "colab": {
          "base_uri": "https://localhost:8080/",
          "height": 1000
        }
      },
      "source": [
        "cifar10_model = cifar_10_arch()\n",
        "\n",
        "history = cifar10_model.fit(x_train, y_train, \n",
        "                            epochs=epochs, \n",
        "                            batch_size=batch_size, \n",
        "                            validation_data=(x_validation, y_validation))"
      ],
      "execution_count": 38,
      "outputs": [
        {
          "output_type": "stream",
          "text": [
            "Model: \"sequential_5\"\n",
            "_________________________________________________________________\n",
            "Layer (type)                 Output Shape              Param #   \n",
            "=================================================================\n",
            "conv2d_5 (Conv2D)            (None, 38, 38, 32)        896       \n",
            "_________________________________________________________________\n",
            "conv2d_6 (Conv2D)            (None, 36, 36, 32)        9248      \n",
            "_________________________________________________________________\n",
            "max_pooling2d_6 (MaxPooling2 (None, 18, 18, 32)        0         \n",
            "_________________________________________________________________\n",
            "dropout_14 (Dropout)         (None, 18, 18, 32)        0         \n",
            "_________________________________________________________________\n",
            "conv2d_7 (Conv2D)            (None, 18, 18, 64)        18496     \n",
            "_________________________________________________________________\n",
            "conv2d_8 (Conv2D)            (None, 16, 16, 64)        36928     \n",
            "_________________________________________________________________\n",
            "max_pooling2d_7 (MaxPooling2 (None, 8, 8, 64)          0         \n",
            "_________________________________________________________________\n",
            "dropout_15 (Dropout)         (None, 8, 8, 64)          0         \n",
            "_________________________________________________________________\n",
            "flatten_5 (Flatten)          (None, 4096)              0         \n",
            "_________________________________________________________________\n",
            "dense_17 (Dense)             (None, 512)               2097664   \n",
            "_________________________________________________________________\n",
            "dropout_16 (Dropout)         (None, 512)               0         \n",
            "_________________________________________________________________\n",
            "dense_18 (Dense)             (None, 5)                 2565      \n",
            "=================================================================\n",
            "Total params: 2,165,797\n",
            "Trainable params: 2,165,797\n",
            "Non-trainable params: 0\n",
            "_________________________________________________________________\n",
            "None\n",
            "Train on 10190 samples, validate on 3397 samples\n",
            "Epoch 1/50\n",
            "10190/10190 [==============================] - 2s 245us/step - loss: 1.5061 - accuracy: 0.3206 - val_loss: 1.4498 - val_accuracy: 0.3588\n",
            "Epoch 2/50\n",
            "10190/10190 [==============================] - 2s 211us/step - loss: 1.3830 - accuracy: 0.4082 - val_loss: 1.3293 - val_accuracy: 0.4601\n",
            "Epoch 3/50\n",
            "10190/10190 [==============================] - 2s 209us/step - loss: 1.2974 - accuracy: 0.4613 - val_loss: 1.2650 - val_accuracy: 0.4957\n",
            "Epoch 4/50\n",
            "10190/10190 [==============================] - 2s 213us/step - loss: 1.2254 - accuracy: 0.4998 - val_loss: 1.1940 - val_accuracy: 0.5378\n",
            "Epoch 5/50\n",
            "10190/10190 [==============================] - 2s 211us/step - loss: 1.1604 - accuracy: 0.5340 - val_loss: 1.1750 - val_accuracy: 0.5517\n",
            "Epoch 6/50\n",
            "10190/10190 [==============================] - 2s 209us/step - loss: 1.0964 - accuracy: 0.5699 - val_loss: 1.0901 - val_accuracy: 0.5840\n",
            "Epoch 7/50\n",
            "10190/10190 [==============================] - 2s 210us/step - loss: 1.0384 - accuracy: 0.5984 - val_loss: 1.0140 - val_accuracy: 0.6300\n",
            "Epoch 8/50\n",
            "10190/10190 [==============================] - 2s 211us/step - loss: 0.9940 - accuracy: 0.6246 - val_loss: 0.9503 - val_accuracy: 0.6509\n",
            "Epoch 9/50\n",
            "10190/10190 [==============================] - 2s 212us/step - loss: 0.9505 - accuracy: 0.6434 - val_loss: 0.9213 - val_accuracy: 0.6565\n",
            "Epoch 10/50\n",
            "10190/10190 [==============================] - 2s 213us/step - loss: 0.8967 - accuracy: 0.6644 - val_loss: 0.8556 - val_accuracy: 0.6906\n",
            "Epoch 11/50\n",
            "10190/10190 [==============================] - 2s 212us/step - loss: 0.8607 - accuracy: 0.6824 - val_loss: 0.8436 - val_accuracy: 0.6874\n",
            "Epoch 12/50\n",
            "10190/10190 [==============================] - 2s 211us/step - loss: 0.8212 - accuracy: 0.6948 - val_loss: 0.8028 - val_accuracy: 0.7139\n",
            "Epoch 13/50\n",
            "10190/10190 [==============================] - 2s 212us/step - loss: 0.7795 - accuracy: 0.7183 - val_loss: 0.7955 - val_accuracy: 0.7215\n",
            "Epoch 14/50\n",
            "10190/10190 [==============================] - 2s 212us/step - loss: 0.7469 - accuracy: 0.7273 - val_loss: 0.7834 - val_accuracy: 0.7142\n",
            "Epoch 15/50\n",
            "10190/10190 [==============================] - 2s 210us/step - loss: 0.7167 - accuracy: 0.7418 - val_loss: 0.7178 - val_accuracy: 0.7348\n",
            "Epoch 16/50\n",
            "10190/10190 [==============================] - 2s 210us/step - loss: 0.6870 - accuracy: 0.7510 - val_loss: 0.7135 - val_accuracy: 0.7439\n",
            "Epoch 17/50\n",
            "10190/10190 [==============================] - 2s 209us/step - loss: 0.6486 - accuracy: 0.7662 - val_loss: 0.6570 - val_accuracy: 0.7618\n",
            "Epoch 18/50\n",
            "10190/10190 [==============================] - 2s 211us/step - loss: 0.6297 - accuracy: 0.7723 - val_loss: 0.6567 - val_accuracy: 0.7592\n",
            "Epoch 19/50\n",
            "10190/10190 [==============================] - 2s 209us/step - loss: 0.6027 - accuracy: 0.7801 - val_loss: 0.6169 - val_accuracy: 0.7845\n",
            "Epoch 20/50\n",
            "10190/10190 [==============================] - 2s 210us/step - loss: 0.5835 - accuracy: 0.7859 - val_loss: 0.5776 - val_accuracy: 0.7966\n",
            "Epoch 21/50\n",
            "10190/10190 [==============================] - 2s 211us/step - loss: 0.5549 - accuracy: 0.7948 - val_loss: 0.6039 - val_accuracy: 0.7860\n",
            "Epoch 22/50\n",
            "10190/10190 [==============================] - 2s 210us/step - loss: 0.5422 - accuracy: 0.8037 - val_loss: 0.5335 - val_accuracy: 0.8113\n",
            "Epoch 23/50\n",
            "10190/10190 [==============================] - 2s 212us/step - loss: 0.5262 - accuracy: 0.8112 - val_loss: 0.5288 - val_accuracy: 0.8069\n",
            "Epoch 24/50\n",
            "10190/10190 [==============================] - 2s 210us/step - loss: 0.5031 - accuracy: 0.8130 - val_loss: 0.5438 - val_accuracy: 0.8039\n",
            "Epoch 25/50\n",
            "10190/10190 [==============================] - 2s 210us/step - loss: 0.4881 - accuracy: 0.8225 - val_loss: 0.5425 - val_accuracy: 0.7986\n",
            "Epoch 26/50\n",
            "10190/10190 [==============================] - 2s 211us/step - loss: 0.4734 - accuracy: 0.8314 - val_loss: 0.4854 - val_accuracy: 0.8296\n",
            "Epoch 27/50\n",
            "10190/10190 [==============================] - 2s 211us/step - loss: 0.4579 - accuracy: 0.8340 - val_loss: 0.4765 - val_accuracy: 0.8354\n",
            "Epoch 28/50\n",
            "10190/10190 [==============================] - 2s 210us/step - loss: 0.4481 - accuracy: 0.8400 - val_loss: 0.4846 - val_accuracy: 0.8296\n",
            "Epoch 29/50\n",
            "10190/10190 [==============================] - 2s 210us/step - loss: 0.4291 - accuracy: 0.8477 - val_loss: 0.4491 - val_accuracy: 0.8393\n",
            "Epoch 30/50\n",
            "10190/10190 [==============================] - 2s 210us/step - loss: 0.4254 - accuracy: 0.8480 - val_loss: 0.4419 - val_accuracy: 0.8449\n",
            "Epoch 31/50\n",
            "10190/10190 [==============================] - 2s 220us/step - loss: 0.4196 - accuracy: 0.8506 - val_loss: 0.4861 - val_accuracy: 0.8263\n",
            "Epoch 32/50\n",
            "10190/10190 [==============================] - 2s 219us/step - loss: 0.4035 - accuracy: 0.8531 - val_loss: 0.4702 - val_accuracy: 0.8369\n",
            "Epoch 33/50\n",
            "10190/10190 [==============================] - 2s 221us/step - loss: 0.3994 - accuracy: 0.8571 - val_loss: 0.4387 - val_accuracy: 0.8434\n",
            "Epoch 34/50\n",
            "10190/10190 [==============================] - 2s 220us/step - loss: 0.3915 - accuracy: 0.8602 - val_loss: 0.4345 - val_accuracy: 0.8410\n",
            "Epoch 35/50\n",
            "10190/10190 [==============================] - 2s 217us/step - loss: 0.3839 - accuracy: 0.8635 - val_loss: 0.4275 - val_accuracy: 0.8449\n",
            "Epoch 36/50\n",
            "10190/10190 [==============================] - 2s 210us/step - loss: 0.3737 - accuracy: 0.8630 - val_loss: 0.4061 - val_accuracy: 0.8575\n",
            "Epoch 37/50\n",
            "10190/10190 [==============================] - 2s 209us/step - loss: 0.3641 - accuracy: 0.8701 - val_loss: 0.4614 - val_accuracy: 0.8443\n",
            "Epoch 38/50\n",
            "10190/10190 [==============================] - 2s 209us/step - loss: 0.3626 - accuracy: 0.8691 - val_loss: 0.4201 - val_accuracy: 0.8608\n",
            "Epoch 39/50\n",
            "10190/10190 [==============================] - 2s 210us/step - loss: 0.3560 - accuracy: 0.8760 - val_loss: 0.3798 - val_accuracy: 0.8711\n",
            "Epoch 40/50\n",
            "10190/10190 [==============================] - 2s 210us/step - loss: 0.3387 - accuracy: 0.8786 - val_loss: 0.4176 - val_accuracy: 0.8590\n",
            "Epoch 41/50\n",
            "10190/10190 [==============================] - 2s 210us/step - loss: 0.3427 - accuracy: 0.8787 - val_loss: 0.4440 - val_accuracy: 0.8560\n",
            "Epoch 42/50\n",
            "10190/10190 [==============================] - 2s 210us/step - loss: 0.3424 - accuracy: 0.8771 - val_loss: 0.3964 - val_accuracy: 0.8616\n",
            "Epoch 43/50\n",
            "10190/10190 [==============================] - 2s 210us/step - loss: 0.3378 - accuracy: 0.8797 - val_loss: 0.3703 - val_accuracy: 0.8714\n",
            "Epoch 44/50\n",
            "10190/10190 [==============================] - 2s 212us/step - loss: 0.3255 - accuracy: 0.8803 - val_loss: 0.3733 - val_accuracy: 0.8684\n",
            "Epoch 45/50\n",
            "10190/10190 [==============================] - 2s 211us/step - loss: 0.3266 - accuracy: 0.8848 - val_loss: 0.3644 - val_accuracy: 0.8755\n",
            "Epoch 46/50\n",
            "10190/10190 [==============================] - 2s 212us/step - loss: 0.3164 - accuracy: 0.8872 - val_loss: 0.4301 - val_accuracy: 0.8643\n",
            "Epoch 47/50\n",
            "10190/10190 [==============================] - 2s 211us/step - loss: 0.3177 - accuracy: 0.8892 - val_loss: 0.3589 - val_accuracy: 0.8734\n",
            "Epoch 48/50\n",
            "10190/10190 [==============================] - 2s 213us/step - loss: 0.3047 - accuracy: 0.8898 - val_loss: 0.3504 - val_accuracy: 0.8770\n",
            "Epoch 49/50\n",
            "10190/10190 [==============================] - 2s 214us/step - loss: 0.3204 - accuracy: 0.8856 - val_loss: 0.3459 - val_accuracy: 0.8802\n",
            "Epoch 50/50\n",
            "10190/10190 [==============================] - 2s 212us/step - loss: 0.3095 - accuracy: 0.8903 - val_loss: 0.3494 - val_accuracy: 0.8787\n"
          ],
          "name": "stdout"
        }
      ]
    },
    {
      "cell_type": "code",
      "metadata": {
        "id": "V6JRsPvuM85t",
        "colab_type": "code",
        "colab": {
          "base_uri": "https://localhost:8080/",
          "height": 513
        },
        "outputId": "04b747b0-5ed9-4b68-f0b8-f8998687247c"
      },
      "source": [
        "acc = history.history['accuracy']\n",
        "val_acc = history.history['val_accuracy']\n",
        "\n",
        "loss = history.history['loss']\n",
        "val_loss = history.history['val_loss']\n",
        "\n",
        "plt.figure(figsize=(8, 8))\n",
        "plt.subplot(2, 1, 1)\n",
        "plt.plot(acc, label='Training Accuracy')\n",
        "plt.plot(val_acc, label='Validation Accuracy')\n",
        "plt.legend(loc='lower right')\n",
        "plt.ylabel('Accuracy')\n",
        "plt.title('Training and Validation Accuracy')\n",
        "\n",
        "plt.subplot(2, 1, 2)\n",
        "plt.plot(loss, label='Training Loss')\n",
        "plt.plot(val_loss, label='Validation Loss')\n",
        "plt.legend(loc='upper right')\n",
        "plt.ylabel('Cross Entropy')\n",
        "plt.title('Training and Validation Loss')\n",
        "plt.xlabel('epoch')\n",
        "plt.show()"
      ],
      "execution_count": 39,
      "outputs": [
        {
          "output_type": "display_data",
          "data": {
            "image/png": "[encoded data removed]",
            "text/plain": [
              "<Figure size 576x576 with 2 Axes>"
            ]
          },
          "metadata": {
            "tags": [],
            "needs_background": "light"
          }
        }
      ]
    },
    {
      "cell_type": "code",
      "metadata": {
        "id": "0GQL13suM8_p",
        "colab_type": "code",
        "colab": {
          "base_uri": "https://localhost:8080/",
          "height": 225
        },
        "outputId": "4efa6529-20ad-4041-ab38-86cc48cff329"
      },
      "source": [
        "predictions = cifar10_model.predict(x_validation)\n",
        "y_pred = np.argmax(predictions, axis=1)\n",
        "\n",
        "cm = confusion_matrix(y_pred, np.argmax(y_validation, axis=1))\n",
        "cr_report = classification_report(y_pred, np.argmax(y_validation, axis=1))\n",
        "\n",
        "print(cr_report)"
      ],
      "execution_count": 40,
      "outputs": [
        {
          "output_type": "stream",
          "text": [
            "              precision    recall  f1-score   support\n",
            "\n",
            "           0       0.89      0.83      0.86       656\n",
            "           1       0.84      0.90      0.87       743\n",
            "           2       0.86      0.88      0.87       332\n",
            "           3       0.86      0.84      0.85       769\n",
            "           4       0.92      0.93      0.93       897\n",
            "\n",
            "    accuracy                           0.88      3397\n",
            "   macro avg       0.88      0.88      0.88      3397\n",
            "weighted avg       0.88      0.88      0.88      3397\n",
            "\n"
          ],
          "name": "stdout"
        }
      ]
    },
    {
      "cell_type": "code",
      "metadata": {
        "id": "KqRHKTM0NCUR",
        "colab_type": "code",
        "colab": {
          "base_uri": "https://localhost:8080/",
          "height": 384
        },
        "outputId": "cb298932-a2f2-4b4c-db91-1a8034775e94"
      },
      "source": [
        "labels = ['Angry', 'Happy', 'Sad', 'Surprised', 'Unknown']\n",
        "title='Confusion matrix'\n",
        "print(cm)\n",
        "\n",
        "plt.imshow(cm, interpolation='nearest', cmap=plt.cm.Blues)\n",
        "plt.title(title)\n",
        "plt.colorbar()\n",
        "tick_marks = np.arange(len(labels))\n",
        "plt.xticks(tick_marks, labels, rotation=45)\n",
        "plt.yticks(tick_marks, labels)\n",
        "fmt = 'd'\n",
        "thresh = cm.max() / 2.\n",
        "for i, j in itertools.product(range(cm.shape[0]), range(cm.shape[1])):\n",
        "    plt.text(j, i, format(cm[i, j], fmt),\n",
        "            horizontalalignment=\"center\",\n",
        "            color=\"white\" if cm[i, j] > thresh else \"black\")\n",
        "\n",
        "plt.ylabel('True label')\n",
        "plt.xlabel('Predicted label')\n",
        "plt.tight_layout()\n",
        "plt.show()"
      ],
      "execution_count": 41,
      "outputs": [
        {
          "output_type": "stream",
          "text": [
            "[[545  40  15  35  21]\n",
            " [ 11 665   5  41  21]\n",
            " [  8   4 293  18   9]\n",
            " [ 29  59  17 645  19]\n",
            " [ 16  23   9  12 837]]\n"
          ],
          "name": "stdout"
        },
        {
          "output_type": "display_data",
          "data": {
            "image/png": "[encoded data removed]",
            "text/plain": [
              "<Figure size 432x288 with 2 Axes>"
            ]
          },
          "metadata": {
            "tags": [],
            "needs_background": "light"
          }
        }
      ]
    },
    {
      "cell_type": "markdown",
      "metadata": {
        "id": "nGeWcUdrEIdl",
        "colab_type": "text"
      },
      "source": [
        "### 2. FER 13\n",
        "\n",
        "https://github.com/gitshanks/fer2013/blob/master/fertrain.py"
      ]
    },
    {
      "cell_type": "code",
      "metadata": {
        "id": "0AATUIhX64sG",
        "colab_type": "code",
        "colab": {}
      },
      "source": [
        "def fer13_model_arch():\n",
        "    model = Sequential()\n",
        "\n",
        "    model.add(Conv2D(num_features, kernel_size=(3, 3), activation='relu', input_shape=(width, height, 3), data_format='channels_last', kernel_regularizer=l2(0.01)))\n",
        "    model.add(Conv2D(num_features, kernel_size=(3, 3), activation='relu', padding='same'))\n",
        "    model.add(BatchNormalization())\n",
        "    model.add(MaxPooling2D(pool_size=(2, 2), strides=(2, 2)))\n",
        "    model.add(Dropout(0.5))\n",
        "\n",
        "    model.add(Conv2D(2*num_features, kernel_size=(3, 3), activation='relu', padding='same'))\n",
        "    model.add(BatchNormalization())\n",
        "    model.add(Conv2D(2*num_features, kernel_size=(3, 3), activation='relu', padding='same'))\n",
        "    model.add(BatchNormalization())\n",
        "    model.add(MaxPooling2D(pool_size=(2, 2), strides=(2, 2)))\n",
        "    model.add(Dropout(0.5))\n",
        "\n",
        "    model.add(Conv2D(2*2*num_features, kernel_size=(3, 3), activation='relu', padding='same'))\n",
        "    model.add(BatchNormalization())\n",
        "    model.add(Conv2D(2*2*num_features, kernel_size=(3, 3), activation='relu', padding='same'))\n",
        "    model.add(BatchNormalization())\n",
        "    model.add(MaxPooling2D(pool_size=(2, 2), strides=(2, 2)))\n",
        "    model.add(Dropout(0.5))\n",
        "\n",
        "    model.add(Conv2D(2*2*2*num_features, kernel_size=(3, 3), activation='relu', padding='same'))\n",
        "    model.add(BatchNormalization())\n",
        "    model.add(Conv2D(2*2*2*num_features, kernel_size=(3, 3), activation='relu', padding='same'))\n",
        "    model.add(BatchNormalization())\n",
        "    model.add(MaxPooling2D(pool_size=(2, 2), strides=(2, 2)))\n",
        "    model.add(Dropout(0.5))\n",
        "\n",
        "    model.add(Flatten())\n",
        "\n",
        "    model.add(Dense(2*2*2*num_features, activation='relu'))\n",
        "    model.add(Dropout(0.4))\n",
        "    model.add(Dense(2*2*num_features, activation='relu'))\n",
        "    model.add(Dropout(0.4))\n",
        "    model.add(Dense(2*num_features, activation='relu'))\n",
        "    model.add(Dropout(0.5))\n",
        "\n",
        "    model.add(Dense(num_labels, activation='softmax'))\n",
        "\n",
        "    print(model.summary())\n",
        "\n",
        "    #Compliling the model with adam optimixer and categorical crossentropy loss\n",
        "    model.compile(loss=\"categorical_crossentropy\",\n",
        "                  optimizer=Adam(lr=0.001, beta_1=0.9, beta_2=0.999, epsilon=1e-7),\n",
        "                  metrics=['accuracy'])\n",
        "\n",
        "    return model"
      ],
      "execution_count": 0,
      "outputs": []
    },
    {
      "cell_type": "code",
      "metadata": {
        "id": "36nCKcTINM6_",
        "colab_type": "code",
        "outputId": "4b348b54-7d42-44fe-ec8f-d08822889024",
        "colab": {
          "base_uri": "https://localhost:8080/",
          "height": 1000
        }
      },
      "source": [
        "fer13_model = fer13_model_arch()\n",
        "\n",
        "history = fer13_model.fit(x_train, y_train, epochs=epochs, validation_data=(x_validation, y_validation))"
      ],
      "execution_count": 0,
      "outputs": [
        {
          "output_type": "stream",
          "text": [
            "Model: \"sequential_4\"\n",
            "_________________________________________________________________\n",
            "Layer (type)                 Output Shape              Param #   \n",
            "=================================================================\n",
            "conv2d_13 (Conv2D)           (None, 36, 36, 32)        896       \n",
            "_________________________________________________________________\n",
            "conv2d_14 (Conv2D)           (None, 36, 36, 32)        9248      \n",
            "_________________________________________________________________\n",
            "batch_normalization_8 (Batch (None, 36, 36, 32)        128       \n",
            "_________________________________________________________________\n",
            "max_pooling2d_7 (MaxPooling2 (None, 18, 18, 32)        0         \n",
            "_________________________________________________________________\n",
            "dropout_11 (Dropout)         (None, 18, 18, 32)        0         \n",
            "_________________________________________________________________\n",
            "conv2d_15 (Conv2D)           (None, 18, 18, 64)        18496     \n",
            "_________________________________________________________________\n",
            "batch_normalization_9 (Batch (None, 18, 18, 64)        256       \n",
            "_________________________________________________________________\n",
            "conv2d_16 (Conv2D)           (None, 18, 18, 64)        36928     \n",
            "_________________________________________________________________\n",
            "batch_normalization_10 (Batc (None, 18, 18, 64)        256       \n",
            "_________________________________________________________________\n",
            "max_pooling2d_8 (MaxPooling2 (None, 9, 9, 64)          0         \n",
            "_________________________________________________________________\n",
            "dropout_12 (Dropout)         (None, 9, 9, 64)          0         \n",
            "_________________________________________________________________\n",
            "conv2d_17 (Conv2D)           (None, 9, 9, 128)         73856     \n",
            "_________________________________________________________________\n",
            "batch_normalization_11 (Batc (None, 9, 9, 128)         512       \n",
            "_________________________________________________________________\n",
            "conv2d_18 (Conv2D)           (None, 9, 9, 128)         147584    \n",
            "_________________________________________________________________\n",
            "batch_normalization_12 (Batc (None, 9, 9, 128)         512       \n",
            "_________________________________________________________________\n",
            "max_pooling2d_9 (MaxPooling2 (None, 4, 4, 128)         0         \n",
            "_________________________________________________________________\n",
            "dropout_13 (Dropout)         (None, 4, 4, 128)         0         \n",
            "_________________________________________________________________\n",
            "conv2d_19 (Conv2D)           (None, 4, 4, 256)         295168    \n",
            "_________________________________________________________________\n",
            "batch_normalization_13 (Batc (None, 4, 4, 256)         1024      \n",
            "_________________________________________________________________\n",
            "conv2d_20 (Conv2D)           (None, 4, 4, 256)         590080    \n",
            "_________________________________________________________________\n",
            "batch_normalization_14 (Batc (None, 4, 4, 256)         1024      \n",
            "_________________________________________________________________\n",
            "max_pooling2d_10 (MaxPooling (None, 2, 2, 256)         0         \n",
            "_________________________________________________________________\n",
            "dropout_14 (Dropout)         (None, 2, 2, 256)         0         \n",
            "_________________________________________________________________\n",
            "flatten_3 (Flatten)          (None, 1024)              0         \n",
            "_________________________________________________________________\n",
            "dense_7 (Dense)              (None, 256)               262400    \n",
            "_________________________________________________________________\n",
            "dropout_15 (Dropout)         (None, 256)               0         \n",
            "_________________________________________________________________\n",
            "dense_8 (Dense)              (None, 128)               32896     \n",
            "_________________________________________________________________\n",
            "dropout_16 (Dropout)         (None, 128)               0         \n",
            "_________________________________________________________________\n",
            "dense_9 (Dense)              (None, 64)                8256      \n",
            "_________________________________________________________________\n",
            "dropout_17 (Dropout)         (None, 64)                0         \n",
            "_________________________________________________________________\n",
            "dense_10 (Dense)             (None, 5)                 325       \n",
            "=================================================================\n",
            "Total params: 1,479,845\n",
            "Trainable params: 1,477,989\n",
            "Non-trainable params: 1,856\n",
            "_________________________________________________________________\n",
            "None\n",
            "Train on 10190 samples, validate on 3397 samples\n",
            "Epoch 1/50\n",
            "10190/10190 [==============================] - 16s 2ms/step - loss: 1.8264 - accuracy: 0.2477 - val_loss: 1.6421 - val_accuracy: 0.2240\n",
            "Epoch 2/50\n",
            "10190/10190 [==============================] - 8s 800us/step - loss: 1.5864 - accuracy: 0.2821 - val_loss: 1.6135 - val_accuracy: 0.2602\n",
            "Epoch 3/50\n",
            "10190/10190 [==============================] - 8s 786us/step - loss: 1.5641 - accuracy: 0.2956 - val_loss: 1.5573 - val_accuracy: 0.2885\n",
            "Epoch 4/50\n",
            "10190/10190 [==============================] - 8s 784us/step - loss: 1.5357 - accuracy: 0.3184 - val_loss: 1.5918 - val_accuracy: 0.2908\n",
            "Epoch 5/50\n",
            "10190/10190 [==============================] - 8s 781us/step - loss: 1.5085 - accuracy: 0.3437 - val_loss: 1.4918 - val_accuracy: 0.3580\n",
            "Epoch 6/50\n",
            "10190/10190 [==============================] - 8s 784us/step - loss: 1.4814 - accuracy: 0.3562 - val_loss: 1.4459 - val_accuracy: 0.3762\n",
            "Epoch 7/50\n",
            "10190/10190 [==============================] - 8s 779us/step - loss: 1.4699 - accuracy: 0.3695 - val_loss: 1.4619 - val_accuracy: 0.3656\n",
            "Epoch 8/50\n",
            "10190/10190 [==============================] - 8s 782us/step - loss: 1.4316 - accuracy: 0.3809 - val_loss: 1.4775 - val_accuracy: 0.3694\n",
            "Epoch 9/50\n",
            "10190/10190 [==============================] - 8s 777us/step - loss: 1.4158 - accuracy: 0.3919 - val_loss: 1.4374 - val_accuracy: 0.3912\n",
            "Epoch 10/50\n",
            "10190/10190 [==============================] - 8s 778us/step - loss: 1.3889 - accuracy: 0.4098 - val_loss: 1.4384 - val_accuracy: 0.3565\n",
            "Epoch 11/50\n",
            "10190/10190 [==============================] - 8s 775us/step - loss: 1.3589 - accuracy: 0.4190 - val_loss: 1.4160 - val_accuracy: 0.3845\n",
            "Epoch 12/50\n",
            "10190/10190 [==============================] - 8s 775us/step - loss: 1.3331 - accuracy: 0.4325 - val_loss: 1.4116 - val_accuracy: 0.3591\n",
            "Epoch 13/50\n",
            "10190/10190 [==============================] - 8s 777us/step - loss: 1.3060 - accuracy: 0.4469 - val_loss: 1.2134 - val_accuracy: 0.4960\n",
            "Epoch 14/50\n",
            "10190/10190 [==============================] - 8s 776us/step - loss: 1.2901 - accuracy: 0.4605 - val_loss: 1.3252 - val_accuracy: 0.4698\n",
            "Epoch 15/50\n",
            "10190/10190 [==============================] - 8s 773us/step - loss: 1.2588 - accuracy: 0.4848 - val_loss: 1.1805 - val_accuracy: 0.5219\n",
            "Epoch 16/50\n",
            "10190/10190 [==============================] - 8s 776us/step - loss: 1.2439 - accuracy: 0.4943 - val_loss: 1.1427 - val_accuracy: 0.5440\n",
            "Epoch 17/50\n",
            "10190/10190 [==============================] - 8s 774us/step - loss: 1.1807 - accuracy: 0.5191 - val_loss: 1.1914 - val_accuracy: 0.5328\n",
            "Epoch 18/50\n",
            "10190/10190 [==============================] - 8s 774us/step - loss: 1.1348 - accuracy: 0.5421 - val_loss: 1.0137 - val_accuracy: 0.5908\n",
            "Epoch 19/50\n",
            "10190/10190 [==============================] - 8s 774us/step - loss: 1.1097 - accuracy: 0.5609 - val_loss: 1.2183 - val_accuracy: 0.4931\n",
            "Epoch 20/50\n",
            "10190/10190 [==============================] - 8s 773us/step - loss: 1.0776 - accuracy: 0.5791 - val_loss: 1.1169 - val_accuracy: 0.5487\n",
            "Epoch 21/50\n",
            "10190/10190 [==============================] - 8s 773us/step - loss: 1.0495 - accuracy: 0.5928 - val_loss: 1.0222 - val_accuracy: 0.6097\n",
            "Epoch 22/50\n",
            "10190/10190 [==============================] - 8s 771us/step - loss: 1.0012 - accuracy: 0.6122 - val_loss: 1.0646 - val_accuracy: 0.5787\n",
            "Epoch 23/50\n",
            "10190/10190 [==============================] - 8s 770us/step - loss: 0.9651 - accuracy: 0.6345 - val_loss: 1.1207 - val_accuracy: 0.5537\n",
            "Epoch 24/50\n",
            "10190/10190 [==============================] - 8s 769us/step - loss: 0.9090 - accuracy: 0.6558 - val_loss: 0.8025 - val_accuracy: 0.7027\n",
            "Epoch 25/50\n",
            "10190/10190 [==============================] - 8s 772us/step - loss: 0.8756 - accuracy: 0.6778 - val_loss: 0.7567 - val_accuracy: 0.7203\n",
            "Epoch 26/50\n",
            "10190/10190 [==============================] - 8s 775us/step - loss: 0.8480 - accuracy: 0.6879 - val_loss: 0.7617 - val_accuracy: 0.7147\n",
            "Epoch 27/50\n",
            "10190/10190 [==============================] - 8s 774us/step - loss: 0.8142 - accuracy: 0.6983 - val_loss: 0.6521 - val_accuracy: 0.7624\n",
            "Epoch 28/50\n",
            "10190/10190 [==============================] - 8s 769us/step - loss: 0.7911 - accuracy: 0.7122 - val_loss: 0.8008 - val_accuracy: 0.7080\n",
            "Epoch 29/50\n",
            "10190/10190 [==============================] - 8s 773us/step - loss: 0.7504 - accuracy: 0.7284 - val_loss: 1.2742 - val_accuracy: 0.5867\n",
            "Epoch 30/50\n",
            "10190/10190 [==============================] - 8s 771us/step - loss: 0.7395 - accuracy: 0.7326 - val_loss: 0.7126 - val_accuracy: 0.7433\n",
            "Epoch 31/50\n",
            "10190/10190 [==============================] - 8s 770us/step - loss: 0.7050 - accuracy: 0.7499 - val_loss: 0.6270 - val_accuracy: 0.7563\n",
            "Epoch 32/50\n",
            "10190/10190 [==============================] - 8s 771us/step - loss: 0.6623 - accuracy: 0.7630 - val_loss: 0.5744 - val_accuracy: 0.7792\n",
            "Epoch 33/50\n",
            "10190/10190 [==============================] - 8s 777us/step - loss: 0.6363 - accuracy: 0.7739 - val_loss: 0.6119 - val_accuracy: 0.7854\n",
            "Epoch 34/50\n",
            "10190/10190 [==============================] - 8s 772us/step - loss: 0.6431 - accuracy: 0.7700 - val_loss: 0.5532 - val_accuracy: 0.7854\n",
            "Epoch 35/50\n",
            "10190/10190 [==============================] - 8s 773us/step - loss: 0.6086 - accuracy: 0.7877 - val_loss: 0.5233 - val_accuracy: 0.8025\n",
            "Epoch 36/50\n",
            "10190/10190 [==============================] - 8s 772us/step - loss: 0.5868 - accuracy: 0.7985 - val_loss: 0.4853 - val_accuracy: 0.8248\n",
            "Epoch 37/50\n",
            "10190/10190 [==============================] - 8s 778us/step - loss: 0.5861 - accuracy: 0.7976 - val_loss: 0.7977 - val_accuracy: 0.7162\n",
            "Epoch 38/50\n",
            "10190/10190 [==============================] - 8s 773us/step - loss: 0.5632 - accuracy: 0.8033 - val_loss: 0.5436 - val_accuracy: 0.8063\n",
            "Epoch 39/50\n",
            "10190/10190 [==============================] - 8s 774us/step - loss: 0.5583 - accuracy: 0.8062 - val_loss: 0.4822 - val_accuracy: 0.8210\n",
            "Epoch 40/50\n",
            "10190/10190 [==============================] - 8s 773us/step - loss: 0.5236 - accuracy: 0.8172 - val_loss: 0.6438 - val_accuracy: 0.7898\n",
            "Epoch 41/50\n",
            "10190/10190 [==============================] - 8s 786us/step - loss: 0.5259 - accuracy: 0.8205 - val_loss: 0.4107 - val_accuracy: 0.8560\n",
            "Epoch 42/50\n",
            "10190/10190 [==============================] - 8s 782us/step - loss: 0.4965 - accuracy: 0.8305 - val_loss: 0.3823 - val_accuracy: 0.8572\n",
            "Epoch 43/50\n",
            "10190/10190 [==============================] - 8s 771us/step - loss: 0.4833 - accuracy: 0.8348 - val_loss: 0.3995 - val_accuracy: 0.8584\n",
            "Epoch 44/50\n",
            "10190/10190 [==============================] - 8s 775us/step - loss: 0.4901 - accuracy: 0.8361 - val_loss: 0.4751 - val_accuracy: 0.8301\n",
            "Epoch 45/50\n",
            "10190/10190 [==============================] - 8s 773us/step - loss: 0.4619 - accuracy: 0.8405 - val_loss: 1.0963 - val_accuracy: 0.7133\n",
            "Epoch 46/50\n",
            "10190/10190 [==============================] - 8s 776us/step - loss: 0.4526 - accuracy: 0.8424 - val_loss: 0.3940 - val_accuracy: 0.8643\n",
            "Epoch 47/50\n",
            "10190/10190 [==============================] - 8s 774us/step - loss: 0.4533 - accuracy: 0.8470 - val_loss: 0.3788 - val_accuracy: 0.8619\n",
            "Epoch 48/50\n",
            "10190/10190 [==============================] - 8s 774us/step - loss: 0.4348 - accuracy: 0.8549 - val_loss: 0.9619 - val_accuracy: 0.7012\n",
            "Epoch 49/50\n",
            "10190/10190 [==============================] - 8s 774us/step - loss: 0.4337 - accuracy: 0.8514 - val_loss: 0.3667 - val_accuracy: 0.8725\n",
            "Epoch 50/50\n",
            "10190/10190 [==============================] - 8s 773us/step - loss: 0.4253 - accuracy: 0.8571 - val_loss: 0.5119 - val_accuracy: 0.8134\n"
          ],
          "name": "stdout"
        }
      ]
    },
    {
      "cell_type": "code",
      "metadata": {
        "id": "n0SFSlnrNeZe",
        "colab_type": "code",
        "outputId": "a9288d8e-b771-4010-c2e4-d4354bf3cb91",
        "colab": {
          "base_uri": "https://localhost:8080/",
          "height": 513
        }
      },
      "source": [
        "acc = history.history['accuracy']\n",
        "val_acc = history.history['val_accuracy']\n",
        "\n",
        "loss = history.history['loss']\n",
        "val_loss = history.history['val_loss']\n",
        "\n",
        "plt.figure(figsize=(8, 8))\n",
        "plt.subplot(2, 1, 1)\n",
        "plt.plot(acc, label='Training Accuracy')\n",
        "plt.plot(val_acc, label='Validation Accuracy')\n",
        "plt.legend(loc='lower right')\n",
        "plt.ylabel('Accuracy')\n",
        "plt.title('Training and Validation Accuracy')\n",
        "\n",
        "plt.subplot(2, 1, 2)\n",
        "plt.plot(loss, label='Training Loss')\n",
        "plt.plot(val_loss, label='Validation Loss')\n",
        "plt.legend(loc='upper right')\n",
        "plt.ylabel('Cross Entropy')\n",
        "plt.title('Training and Validation Loss')\n",
        "plt.xlabel('epoch')\n",
        "plt.show()"
      ],
      "execution_count": 0,
      "outputs": [
        {
          "output_type": "display_data",
          "data": {
            "image/png": "[encoded data removed]",
            "text/plain": [
              "<Figure size 576x576 with 2 Axes>"
            ]
          },
          "metadata": {
            "tags": [],
            "needs_background": "light"
          }
        }
      ]
    },
    {
      "cell_type": "code",
      "metadata": {
        "id": "4AavUGiRNeiS",
        "colab_type": "code",
        "outputId": "bdacad2c-f714-400a-fc7d-1e3a6e9a0b9f",
        "colab": {
          "base_uri": "https://localhost:8080/",
          "height": 225
        }
      },
      "source": [
        "predictions = fer13_model.predict(x_validation)\n",
        "y_pred = np.argmax(predictions, axis=1)\n",
        "\n",
        "cm = confusion_matrix(y_pred, np.argmax(y_validation, axis=1))\n",
        "cr_report = classification_report(y_pred, np.argmax(y_validation, axis=1))\n",
        "\n",
        "print(cr_report)"
      ],
      "execution_count": 0,
      "outputs": [
        {
          "output_type": "stream",
          "text": [
            "              precision    recall  f1-score   support\n",
            "\n",
            "           0       0.89      0.71      0.79       768\n",
            "           1       0.85      0.76      0.80       890\n",
            "           2       0.86      0.81      0.84       360\n",
            "           3       0.60      0.88      0.72       516\n",
            "           4       0.88      0.93      0.90       863\n",
            "\n",
            "    accuracy                           0.81      3397\n",
            "   macro avg       0.82      0.82      0.81      3397\n",
            "weighted avg       0.83      0.81      0.82      3397\n",
            "\n"
          ],
          "name": "stdout"
        }
      ]
    },
    {
      "cell_type": "code",
      "metadata": {
        "id": "GfacEGvGNeey",
        "colab_type": "code",
        "outputId": "141a22c2-45db-4abe-e5dc-ada3b0f729bf",
        "colab": {
          "base_uri": "https://localhost:8080/",
          "height": 384
        }
      },
      "source": [
        "labels = ['Angry', 'Happy', 'Sad', 'Surprised', 'Unknown']\n",
        "title='Confusion matrix'\n",
        "print(cm)\n",
        "\n",
        "plt.imshow(cm, interpolation='nearest', cmap=plt.cm.Blues)\n",
        "plt.title(title)\n",
        "plt.colorbar()\n",
        "tick_marks = np.arange(len(labels))\n",
        "plt.xticks(tick_marks, labels, rotation=45)\n",
        "plt.yticks(tick_marks, labels)\n",
        "fmt = 'd'\n",
        "thresh = cm.max() / 2.\n",
        "for i, j in itertools.product(range(cm.shape[0]), range(cm.shape[1])):\n",
        "    plt.text(j, i, format(cm[i, j], fmt),\n",
        "            horizontalalignment=\"center\",\n",
        "            color=\"white\" if cm[i, j] > thresh else \"black\")\n",
        "\n",
        "plt.ylabel('True label')\n",
        "plt.xlabel('Predicted label')\n",
        "plt.tight_layout()\n",
        "plt.show()"
      ],
      "execution_count": 0,
      "outputs": [
        {
          "output_type": "stream",
          "text": [
            "[[543  75  20  85  45]\n",
            " [ 30 673   3 146  38]\n",
            " [  8   4 293  41  14]\n",
            " [ 17  22  13 454  10]\n",
            " [ 11  17  10  25 800]]\n"
          ],
          "name": "stdout"
        },
        {
          "output_type": "display_data",
          "data": {
            "image/png": "[encoded data removed]",
            "text/plain": [
              "<Figure size 432x288 with 2 Axes>"
            ]
          },
          "metadata": {
            "tags": [],
            "needs_background": "light"
          }
        }
      ]
    },
    {
      "cell_type": "markdown",
      "metadata": {
        "id": "Dv1-s4gWGNF-",
        "colab_type": "text"
      },
      "source": [
        "## Final output & Submission\n"
      ]
    },
    {
      "cell_type": "code",
      "metadata": {
        "id": "uGe7HzVkVjDc",
        "colab_type": "code",
        "colab": {
          "base_uri": "https://localhost:8080/",
          "height": 52
        },
        "outputId": "49b0c95e-8612-4387-8ccb-72135fda95a7"
      },
      "source": [
        "test_data = list()\n",
        "\n",
        "for i in tqdm(range(test_df.shape[0])):\n",
        "    img = load_img(\n",
        "        '/gdrive/My Drive/Dataset/AICrowd/EmotionDetection/ntest/'+str(test_df['image_file'][i])+'.jpg',\n",
        "        target_size=(width, height, channels),\n",
        "        grayscale=False\n",
        "        )\n",
        "    img = img_to_array(img)\n",
        "    img /= 255.0\n",
        "    x = img\n",
        "    test_data.append(img)\n",
        "\n",
        "test_data = np.asarray(test_data)\n",
        "\n",
        "print(F\"Test data stats: {test_data.shape}\")"
      ],
      "execution_count": 30,
      "outputs": [
        {
          "output_type": "stream",
          "text": [
            "100%|██████████| 275/275 [00:01<00:00, 243.59it/s]"
          ],
          "name": "stderr"
        },
        {
          "output_type": "stream",
          "text": [
            "Test data stats: (275, 38, 38, 3)\n"
          ],
          "name": "stdout"
        },
        {
          "output_type": "stream",
          "text": [
            "\n"
          ],
          "name": "stderr"
        }
      ]
    },
    {
      "cell_type": "code",
      "metadata": {
        "id": "8sSA1j0xGe5p",
        "colab_type": "code",
        "colab": {}
      },
      "source": [
        "predictions = cifar10_model.predict(test_data)\n",
        "y_pred = np.argmax(predictions, axis=1)"
      ],
      "execution_count": 0,
      "outputs": []
    },
    {
      "cell_type": "code",
      "metadata": {
        "id": "mzcrjZT-bJwu",
        "colab_type": "code",
        "colab": {}
      },
      "source": [
        "pd.DataFrame({\"emotion\": y_pred}).to_csv(\"/gdrive/My Drive/Dataset/AICrowd/EmotionDetection/submission.csv\", index=False)"
      ],
      "execution_count": 0,
      "outputs": []
    }
  ]
}