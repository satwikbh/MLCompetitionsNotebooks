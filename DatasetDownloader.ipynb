{
  "nbformat": 4,
  "nbformat_minor": 0,
  "metadata": {
    "colab": {
      "name": "DatasetDownloader.ipynb",
      "provenance": [],
      "collapsed_sections": []
    },
    "kernelspec": {
      "name": "python3",
      "display_name": "Python 3"
    }
  },
  "cells": [
    {
      "cell_type": "markdown",
      "metadata": {
        "id": "efITPsEUC23y",
        "colab_type": "text"
      },
      "source": [
        "# Download Dataset directly to Google Drive\n",
        "\n",
        "This ipynb file demonstrates how to download any file to google drive directly instead of download to local system and upload to drive again."
      ]
    },
    {
      "cell_type": "code",
      "metadata": {
        "id": "l3wL9y93mBmR",
        "colab_type": "code",
        "outputId": "fc1c8fc9-8730-4ba0-9f16-da60fc474a95",
        "colab": {
          "base_uri": "https://localhost:8080/",
          "height": 122
        }
      },
      "source": [
        "from google.colab import drive\n",
        "drive.mount('/content/gdrive')"
      ],
      "execution_count": 0,
      "outputs": [
        {
          "output_type": "stream",
          "text": [
            "Go to this URL in a browser: https://accounts.google.com/o/oauth2/auth?client_id=947318989803-6bn6qk8qdgf4n4g3pfee6491hc0brc4i.apps.googleusercontent.com&redirect_uri=urn%3aietf%3awg%3aoauth%3a2.0%3aoob&response_type=code&scope=email%20https%3a%2f%2fwww.googleapis.com%2fauth%2fdocs.test%20https%3a%2f%2fwww.googleapis.com%2fauth%2fdrive%20https%3a%2f%2fwww.googleapis.com%2fauth%2fdrive.photos.readonly%20https%3a%2f%2fwww.googleapis.com%2fauth%2fpeopleapi.readonly\n",
            "\n",
            "Enter your authorization code:\n",
            "··········\n",
            "Mounted at /content/gdrive\n"
          ],
          "name": "stdout"
        }
      ]
    },
    {
      "cell_type": "code",
      "metadata": {
        "id": "A0zpG2GrmbTN",
        "colab_type": "code",
        "colab": {}
      },
      "source": [
        "import requests  \n",
        "file_url = \"https://s3.amazonaws.com/dl4j-distribution/GoogleNews-vectors-negative300.bin.gz\"\n",
        "    \n",
        "r = requests.get(file_url, stream = True)  \n",
        "  \n",
        "with open(\"/content/gdrive/My Drive/Dataset/WordEmbeddings/GoogleNews-vectors-negative300.bin.gz\", \"wb\") as file:\n",
        "    for block in r.iter_content(chunk_size = 1024): \n",
        "         if block:  \n",
        "             file.write(block)"
      ],
      "execution_count": 0,
      "outputs": []
    },
    {
      "cell_type": "code",
      "metadata": {
        "id": "3OqAzKKcYZF6",
        "colab_type": "code",
        "colab": {}
      },
      "source": [
        "!mv \"/content/gdrive/My Drive/Dataset/WordEmbeddings/GoogleNews-vectors-negative300.bin.gz\" \"/content/gdrive/My Drive/Dataset/GoogleNews-vectors-negative300.bin.gz\""
      ],
      "execution_count": 0,
      "outputs": []
    },
    {
      "cell_type": "code",
      "metadata": {
        "id": "nyOUFI2jsWzn",
        "colab_type": "code",
        "colab": {}
      },
      "source": [
        "!tar -zxvf \"/content/gdrive/My Drive/Dataset/WordEmbeddings/GoogleNews-vectors-negative300.bin.gz\" -C \"/content/gdrive/My Drive/Dataset/WordEmbeddings/\""
      ],
      "execution_count": 0,
      "outputs": []
    },
    {
      "cell_type": "code",
      "metadata": {
        "id": "H2Dz5K6Uso8w",
        "colab_type": "code",
        "colab": {}
      },
      "source": [
        "!unzip -q \"/content/gdrive/My Drive/Dataset/WordEmbeddings/fasttext_wiki-news-300d-1M-subword.vec.zip\" -d \"/content/gdrive/My Drive/Dataset/WordEmbeddings/\""
      ],
      "execution_count": 0,
      "outputs": []
    }
  ]
}